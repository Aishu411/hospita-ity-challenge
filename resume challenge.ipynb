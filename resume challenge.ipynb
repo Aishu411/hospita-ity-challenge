{
 "cells": [
  {
   "cell_type": "code",
   "execution_count": 1,
   "id": "762a423b",
   "metadata": {},
   "outputs": [],
   "source": [
    "import pandas as pd\n",
    "import numphy as np"
   ]
  },
  {
   "cell_type": "code",
   "execution_count": 4,
   "id": "fcc42b66",
   "metadata": {},
   "outputs": [],
   "source": [
    "df=pd.read_csv(\"fact_bookings.csv\")"
   ]
  },
  {
   "cell_type": "code",
   "execution_count": 2,
   "id": "a3c31086",
   "metadata": {},
   "outputs": [
    {
     "name": "stdout",
     "output_type": "stream",
     "text": [
      " Volume in drive C is OS\n",
      " Volume Serial Number is B8CB-B37E\n",
      "\n",
      " Directory of C:\\Users\\DELL\\financial crime analysis\n",
      "\n",
      "02-10-2022  14:07    <DIR>          .\n",
      "02-10-2022  14:07    <DIR>          ..\n",
      "02-10-2022  14:07    <DIR>          .ipynb_checkpoints\n",
      "08-09-2022  23:33           326,177 accounts.csv\n",
      "08-09-2022  23:33            88,071 alerts.csv\n",
      "02-10-2022  14:07        13,183,046 fact_bookings.csv\n",
      "13-09-2022  15:46            50,104 financial crime analysis.ipynb\n",
      "08-09-2022  23:34        61,047,116 transactions.csv\n",
      "02-10-2022  14:07                72 Untitled.ipynb\n",
      "               6 File(s)     74,694,586 bytes\n",
      "               3 Dir(s)  125,253,844,992 bytes free\n"
     ]
    }
   ],
   "source": [
    "ls"
   ]
  },
  {
   "cell_type": "code",
   "execution_count": 5,
   "id": "47963271",
   "metadata": {},
   "outputs": [
    {
     "data": {
      "text/html": [
       "<div>\n",
       "<style scoped>\n",
       "    .dataframe tbody tr th:only-of-type {\n",
       "        vertical-align: middle;\n",
       "    }\n",
       "\n",
       "    .dataframe tbody tr th {\n",
       "        vertical-align: top;\n",
       "    }\n",
       "\n",
       "    .dataframe thead th {\n",
       "        text-align: right;\n",
       "    }\n",
       "</style>\n",
       "<table border=\"1\" class=\"dataframe\">\n",
       "  <thead>\n",
       "    <tr style=\"text-align: right;\">\n",
       "      <th></th>\n",
       "      <th>booking_id</th>\n",
       "      <th>property_id</th>\n",
       "      <th>booking_date</th>\n",
       "      <th>check_in_date</th>\n",
       "      <th>checkout_date</th>\n",
       "      <th>no_guests</th>\n",
       "      <th>room_category</th>\n",
       "      <th>booking_platform</th>\n",
       "      <th>ratings_given</th>\n",
       "      <th>booking_status</th>\n",
       "      <th>revenue_generated</th>\n",
       "      <th>revenue_realized</th>\n",
       "    </tr>\n",
       "  </thead>\n",
       "  <tbody>\n",
       "    <tr>\n",
       "      <th>0</th>\n",
       "      <td>May012216558RT11</td>\n",
       "      <td>16558</td>\n",
       "      <td>2022-04-27</td>\n",
       "      <td>2022-05-01</td>\n",
       "      <td>2022-05-02</td>\n",
       "      <td>3</td>\n",
       "      <td>RT1</td>\n",
       "      <td>direct online</td>\n",
       "      <td>1.0</td>\n",
       "      <td>Checked Out</td>\n",
       "      <td>10010</td>\n",
       "      <td>10010</td>\n",
       "    </tr>\n",
       "    <tr>\n",
       "      <th>1</th>\n",
       "      <td>May012216558RT12</td>\n",
       "      <td>16558</td>\n",
       "      <td>2022-04-30</td>\n",
       "      <td>2022-05-01</td>\n",
       "      <td>2022-05-02</td>\n",
       "      <td>2</td>\n",
       "      <td>RT1</td>\n",
       "      <td>others</td>\n",
       "      <td>NaN</td>\n",
       "      <td>Cancelled</td>\n",
       "      <td>9100</td>\n",
       "      <td>3640</td>\n",
       "    </tr>\n",
       "    <tr>\n",
       "      <th>2</th>\n",
       "      <td>May012216558RT13</td>\n",
       "      <td>16558</td>\n",
       "      <td>2022-04-28</td>\n",
       "      <td>2022-05-01</td>\n",
       "      <td>2022-05-04</td>\n",
       "      <td>2</td>\n",
       "      <td>RT1</td>\n",
       "      <td>logtrip</td>\n",
       "      <td>5.0</td>\n",
       "      <td>Checked Out</td>\n",
       "      <td>9100</td>\n",
       "      <td>9100</td>\n",
       "    </tr>\n",
       "    <tr>\n",
       "      <th>3</th>\n",
       "      <td>May012216558RT14</td>\n",
       "      <td>16558</td>\n",
       "      <td>2022-04-28</td>\n",
       "      <td>2022-05-01</td>\n",
       "      <td>2022-05-02</td>\n",
       "      <td>2</td>\n",
       "      <td>RT1</td>\n",
       "      <td>others</td>\n",
       "      <td>NaN</td>\n",
       "      <td>Cancelled</td>\n",
       "      <td>9100</td>\n",
       "      <td>3640</td>\n",
       "    </tr>\n",
       "    <tr>\n",
       "      <th>4</th>\n",
       "      <td>May012216558RT15</td>\n",
       "      <td>16558</td>\n",
       "      <td>2022-04-27</td>\n",
       "      <td>2022-05-01</td>\n",
       "      <td>2022-05-02</td>\n",
       "      <td>4</td>\n",
       "      <td>RT1</td>\n",
       "      <td>direct online</td>\n",
       "      <td>5.0</td>\n",
       "      <td>Checked Out</td>\n",
       "      <td>10920</td>\n",
       "      <td>10920</td>\n",
       "    </tr>\n",
       "    <tr>\n",
       "      <th>...</th>\n",
       "      <td>...</td>\n",
       "      <td>...</td>\n",
       "      <td>...</td>\n",
       "      <td>...</td>\n",
       "      <td>...</td>\n",
       "      <td>...</td>\n",
       "      <td>...</td>\n",
       "      <td>...</td>\n",
       "      <td>...</td>\n",
       "      <td>...</td>\n",
       "      <td>...</td>\n",
       "      <td>...</td>\n",
       "    </tr>\n",
       "    <tr>\n",
       "      <th>134585</th>\n",
       "      <td>Jul312217564RT46</td>\n",
       "      <td>17564</td>\n",
       "      <td>2022-07-29</td>\n",
       "      <td>2022-07-31</td>\n",
       "      <td>2022-08-03</td>\n",
       "      <td>1</td>\n",
       "      <td>RT4</td>\n",
       "      <td>makeyourtrip</td>\n",
       "      <td>2.0</td>\n",
       "      <td>Checked Out</td>\n",
       "      <td>32300</td>\n",
       "      <td>32300</td>\n",
       "    </tr>\n",
       "    <tr>\n",
       "      <th>134586</th>\n",
       "      <td>Jul312217564RT47</td>\n",
       "      <td>17564</td>\n",
       "      <td>2022-07-30</td>\n",
       "      <td>2022-07-31</td>\n",
       "      <td>2022-08-01</td>\n",
       "      <td>4</td>\n",
       "      <td>RT4</td>\n",
       "      <td>logtrip</td>\n",
       "      <td>2.0</td>\n",
       "      <td>Checked Out</td>\n",
       "      <td>38760</td>\n",
       "      <td>38760</td>\n",
       "    </tr>\n",
       "    <tr>\n",
       "      <th>134587</th>\n",
       "      <td>Jul312217564RT48</td>\n",
       "      <td>17564</td>\n",
       "      <td>2022-07-30</td>\n",
       "      <td>2022-07-31</td>\n",
       "      <td>2022-08-02</td>\n",
       "      <td>1</td>\n",
       "      <td>RT4</td>\n",
       "      <td>tripster</td>\n",
       "      <td>NaN</td>\n",
       "      <td>Cancelled</td>\n",
       "      <td>32300</td>\n",
       "      <td>12920</td>\n",
       "    </tr>\n",
       "    <tr>\n",
       "      <th>134588</th>\n",
       "      <td>Jul312217564RT49</td>\n",
       "      <td>17564</td>\n",
       "      <td>2022-07-29</td>\n",
       "      <td>2022-07-31</td>\n",
       "      <td>2022-08-01</td>\n",
       "      <td>2</td>\n",
       "      <td>RT4</td>\n",
       "      <td>logtrip</td>\n",
       "      <td>2.0</td>\n",
       "      <td>Checked Out</td>\n",
       "      <td>32300</td>\n",
       "      <td>32300</td>\n",
       "    </tr>\n",
       "    <tr>\n",
       "      <th>134589</th>\n",
       "      <td>Jul312217564RT410</td>\n",
       "      <td>17564</td>\n",
       "      <td>2022-07-31</td>\n",
       "      <td>2022-07-31</td>\n",
       "      <td>2022-08-01</td>\n",
       "      <td>2</td>\n",
       "      <td>RT4</td>\n",
       "      <td>makeyourtrip</td>\n",
       "      <td>NaN</td>\n",
       "      <td>Cancelled</td>\n",
       "      <td>32300</td>\n",
       "      <td>12920</td>\n",
       "    </tr>\n",
       "  </tbody>\n",
       "</table>\n",
       "<p>134590 rows × 12 columns</p>\n",
       "</div>"
      ],
      "text/plain": [
       "               booking_id  property_id booking_date check_in_date  \\\n",
       "0        May012216558RT11        16558   2022-04-27    2022-05-01   \n",
       "1        May012216558RT12        16558   2022-04-30    2022-05-01   \n",
       "2        May012216558RT13        16558   2022-04-28    2022-05-01   \n",
       "3        May012216558RT14        16558   2022-04-28    2022-05-01   \n",
       "4        May012216558RT15        16558   2022-04-27    2022-05-01   \n",
       "...                   ...          ...          ...           ...   \n",
       "134585   Jul312217564RT46        17564   2022-07-29    2022-07-31   \n",
       "134586   Jul312217564RT47        17564   2022-07-30    2022-07-31   \n",
       "134587   Jul312217564RT48        17564   2022-07-30    2022-07-31   \n",
       "134588   Jul312217564RT49        17564   2022-07-29    2022-07-31   \n",
       "134589  Jul312217564RT410        17564   2022-07-31    2022-07-31   \n",
       "\n",
       "       checkout_date  no_guests room_category booking_platform  ratings_given  \\\n",
       "0         2022-05-02          3           RT1    direct online            1.0   \n",
       "1         2022-05-02          2           RT1           others            NaN   \n",
       "2         2022-05-04          2           RT1          logtrip            5.0   \n",
       "3         2022-05-02          2           RT1           others            NaN   \n",
       "4         2022-05-02          4           RT1    direct online            5.0   \n",
       "...              ...        ...           ...              ...            ...   \n",
       "134585    2022-08-03          1           RT4     makeyourtrip            2.0   \n",
       "134586    2022-08-01          4           RT4          logtrip            2.0   \n",
       "134587    2022-08-02          1           RT4         tripster            NaN   \n",
       "134588    2022-08-01          2           RT4          logtrip            2.0   \n",
       "134589    2022-08-01          2           RT4     makeyourtrip            NaN   \n",
       "\n",
       "       booking_status  revenue_generated  revenue_realized  \n",
       "0         Checked Out              10010             10010  \n",
       "1           Cancelled               9100              3640  \n",
       "2         Checked Out               9100              9100  \n",
       "3           Cancelled               9100              3640  \n",
       "4         Checked Out              10920             10920  \n",
       "...               ...                ...               ...  \n",
       "134585    Checked Out              32300             32300  \n",
       "134586    Checked Out              38760             38760  \n",
       "134587      Cancelled              32300             12920  \n",
       "134588    Checked Out              32300             32300  \n",
       "134589      Cancelled              32300             12920  \n",
       "\n",
       "[134590 rows x 12 columns]"
      ]
     },
     "execution_count": 5,
     "metadata": {},
     "output_type": "execute_result"
    }
   ],
   "source": [
    "df"
   ]
  },
  {
   "cell_type": "code",
   "execution_count": 6,
   "id": "d22fe476",
   "metadata": {},
   "outputs": [
    {
     "data": {
      "text/plain": [
       "134590"
      ]
     },
     "execution_count": 6,
     "metadata": {},
     "output_type": "execute_result"
    }
   ],
   "source": [
    "df[\"booking_status\"].count()"
   ]
  },
  {
   "cell_type": "code",
   "execution_count": 9,
   "id": "bf3f2432",
   "metadata": {},
   "outputs": [
    {
     "data": {
      "text/plain": [
       "Checked Out    94411\n",
       "Cancelled      33420\n",
       "No Show         6759\n",
       "Name: booking_status, dtype: int64"
      ]
     },
     "execution_count": 9,
     "metadata": {},
     "output_type": "execute_result"
    }
   ],
   "source": [
    "df[\"booking_status\"].value_counts()\n"
   ]
  },
  {
   "cell_type": "code",
   "execution_count": 10,
   "id": "e59c25de",
   "metadata": {},
   "outputs": [
    {
     "data": {
      "text/plain": [
       "0.7014711345568021"
      ]
     },
     "execution_count": 10,
     "metadata": {},
     "output_type": "execute_result"
    }
   ],
   "source": [
    "94411/134590"
   ]
  },
  {
   "cell_type": "code",
   "execution_count": 13,
   "id": "74c1754b",
   "metadata": {},
   "outputs": [
    {
     "data": {
      "text/plain": [
       "70.14711345568021"
      ]
     },
     "execution_count": 13,
     "metadata": {},
     "output_type": "execute_result"
    }
   ],
   "source": [
    "(94411/134590)*100"
   ]
  },
  {
   "cell_type": "code",
   "execution_count": 14,
   "id": "0452fc83",
   "metadata": {},
   "outputs": [],
   "source": [
    "cancellation_rate=(94411/134590)*100"
   ]
  },
  {
   "cell_type": "code",
   "execution_count": 15,
   "id": "edc96fe7",
   "metadata": {},
   "outputs": [
    {
     "data": {
      "text/plain": [
       "70.14711345568021"
      ]
     },
     "execution_count": 15,
     "metadata": {},
     "output_type": "execute_result"
    }
   ],
   "source": [
    "cancellation_rate"
   ]
  },
  {
   "cell_type": "code",
   "execution_count": 16,
   "id": "61dd67ae",
   "metadata": {},
   "outputs": [
    {
     "data": {
      "text/plain": [
       "2    60223\n",
       "1    44313\n",
       "3    15122\n",
       "4    12096\n",
       "6     1445\n",
       "5     1391\n",
       "Name: no_guests, dtype: int64"
      ]
     },
     "execution_count": 16,
     "metadata": {},
     "output_type": "execute_result"
    }
   ],
   "source": [
    "df[\"no_guests\"].value_counts()"
   ]
  },
  {
   "cell_type": "code",
   "execution_count": 17,
   "id": "738a72e9",
   "metadata": {},
   "outputs": [
    {
     "data": {
      "text/plain": [
       "537"
      ]
     },
     "execution_count": 17,
     "metadata": {},
     "output_type": "execute_result"
    }
   ],
   "source": [
    "337+200"
   ]
  },
  {
   "cell_type": "code",
   "execution_count": 18,
   "id": "f677b29e",
   "metadata": {},
   "outputs": [],
   "source": [
    "occupancy_change=((337-200)/537)*100"
   ]
  },
  {
   "cell_type": "code",
   "execution_count": 19,
   "id": "66c0525d",
   "metadata": {},
   "outputs": [
    {
     "data": {
      "text/plain": [
       "25.512104283054004"
      ]
     },
     "execution_count": 19,
     "metadata": {},
     "output_type": "execute_result"
    }
   ],
   "source": [
    "occupancy_change"
   ]
  },
  {
   "cell_type": "code",
   "execution_count": null,
   "id": "7fd5ccbf",
   "metadata": {},
   "outputs": [],
   "source": []
  }
 ],
 "metadata": {
  "kernelspec": {
   "display_name": "Python 3 (ipykernel)",
   "language": "python",
   "name": "python3"
  },
  "language_info": {
   "codemirror_mode": {
    "name": "ipython",
    "version": 3
   },
   "file_extension": ".py",
   "mimetype": "text/x-python",
   "name": "python",
   "nbconvert_exporter": "python",
   "pygments_lexer": "ipython3",
   "version": "3.9.7"
  }
 },
 "nbformat": 4,
 "nbformat_minor": 5
}
